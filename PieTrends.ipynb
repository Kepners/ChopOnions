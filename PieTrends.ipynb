{
  "nbformat": 4,
  "nbformat_minor": 0,
  "metadata": {
    "colab": {
      "provenance": [],
      "authorship_tag": "ABX9TyNeQ5OZ2Ej4TyjdRZqgOmgf",
      "include_colab_link": true
    },
    "kernelspec": {
      "name": "python3",
      "display_name": "Python 3"
    },
    "language_info": {
      "name": "python"
    }
  },
  "cells": [
    {
      "cell_type": "markdown",
      "metadata": {
        "id": "view-in-github",
        "colab_type": "text"
      },
      "source": [
        "<a href=\"https://colab.research.google.com/github/Kepners/ChopOnions/blob/main/PieTrends.ipynb\" target=\"_parent\"><img src=\"https://colab.research.google.com/assets/colab-badge.svg\" alt=\"Open In Colab\"/></a>"
      ]
    },
    {
      "cell_type": "code",
      "source": [
        "!pip install requests pandas\n"
      ],
      "metadata": {
        "colab": {
          "base_uri": "https://localhost:8080/"
        },
        "id": "S_miLCpt8j_4",
        "outputId": "53ab0ec8-3f83-423d-839a-54302fd8f2eb"
      },
      "execution_count": 6,
      "outputs": [
        {
          "output_type": "stream",
          "name": "stdout",
          "text": [
            "Requirement already satisfied: requests in /usr/local/lib/python3.10/dist-packages (2.32.3)\n",
            "Requirement already satisfied: pandas in /usr/local/lib/python3.10/dist-packages (2.2.2)\n",
            "Requirement already satisfied: charset-normalizer<4,>=2 in /usr/local/lib/python3.10/dist-packages (from requests) (3.4.0)\n",
            "Requirement already satisfied: idna<4,>=2.5 in /usr/local/lib/python3.10/dist-packages (from requests) (3.10)\n",
            "Requirement already satisfied: urllib3<3,>=1.21.1 in /usr/local/lib/python3.10/dist-packages (from requests) (2.2.3)\n",
            "Requirement already satisfied: certifi>=2017.4.17 in /usr/local/lib/python3.10/dist-packages (from requests) (2024.8.30)\n",
            "Requirement already satisfied: numpy>=1.22.4 in /usr/local/lib/python3.10/dist-packages (from pandas) (1.26.4)\n",
            "Requirement already satisfied: python-dateutil>=2.8.2 in /usr/local/lib/python3.10/dist-packages (from pandas) (2.8.2)\n",
            "Requirement already satisfied: pytz>=2020.1 in /usr/local/lib/python3.10/dist-packages (from pandas) (2024.2)\n",
            "Requirement already satisfied: tzdata>=2022.7 in /usr/local/lib/python3.10/dist-packages (from pandas) (2024.2)\n",
            "Requirement already satisfied: six>=1.5 in /usr/local/lib/python3.10/dist-packages (from python-dateutil>=2.8.2->pandas) (1.16.0)\n"
          ]
        }
      ]
    },
    {
      "cell_type": "code",
      "execution_count": 5,
      "metadata": {
        "id": "GdUOlw8H7Zs3"
      },
      "outputs": [],
      "source": [
        "import requests\n",
        "import json\n",
        "import pandas as pd\n",
        "from io import StringIO\n",
        "from time import sleep\n",
        "\n",
        "class GoogleTrendsScraper:\n",
        "\n",
        "    def __init__(self):\n",
        "        self.session = requests.Session()\n",
        "        self.headers = {\n",
        "            \"User-Agent\": \"Mozilla/5.0 (Windows NT 10.0; Win64; x64) AppleWebKit/537.36 (KHTML, like Gecko) Chrome/91.0.4472.124 Safari/537.36\"\n",
        "        }\n",
        "\n",
        "    def _get_json(self, url):\n",
        "        \"\"\"Helper function to fetch and parse JSON response.\"\"\"\n",
        "        response = self.session.get(url, headers=self.headers)\n",
        "        if response.status_code == 200:\n",
        "            try:\n",
        "                data = json.loads(response.text[5:])  # Remove leading non-JSON chars if necessary\n",
        "                return data\n",
        "            except json.JSONDecodeError as e:\n",
        "                print(\"JSON decoding error:\", e)\n",
        "                return None\n",
        "        else:\n",
        "            print(\"Error fetching data:\", response.status_code)\n",
        "            return None\n",
        "\n",
        "    def get_trending_searches(self, region='US'):\n",
        "        \"\"\"Fetch daily trending searches for a specific region.\"\"\"\n",
        "        url = f\"https://trends.google.com/trends/api/dailytrends?geo={region}\"\n",
        "        data = self._get_json(url)\n",
        "        if data:\n",
        "            return data['default']['trendingSearchesDays']\n",
        "        else:\n",
        "            return None\n",
        "\n",
        "    def get_interest_over_time(self, keyword, timeframe='now 7-d', geo=''):\n",
        "        \"\"\"Fetch interest over time for a keyword within a specified timeframe.\"\"\"\n",
        "        url = f\"https://trends.google.com/trends/api/widgetdata/multiline/csv?geo={geo}&q={keyword}&time={timeframe}\"\n",
        "        response = self.session.get(url, headers=self.headers)\n",
        "\n",
        "        if response.status_code == 200:\n",
        "            try:\n",
        "                # Parsing CSV from text to DataFrame\n",
        "                csv_data = pd.read_csv(StringIO(response.text))\n",
        "                return csv_data\n",
        "            except Exception as e:\n",
        "                print(\"Error parsing CSV:\", e)\n",
        "                return None\n",
        "        else:\n",
        "            print(\"Error fetching interest over time:\", response.status_code)\n",
        "            return None\n",
        "\n",
        "    def get_interest_by_region(self, keyword, geo='US'):\n",
        "        \"\"\"Fetch interest by region for a keyword.\"\"\"\n",
        "        url = f\"https://trends.google.com/trends/api/widgetdata/comparedgeo?geo={geo}&q={keyword}\"\n",
        "        data = self._get_json(url)\n",
        "        if data:\n",
        "            return data['default']['geoMapData']\n",
        "        else:\n",
        "            return None\n",
        "\n",
        "    def get_related_queries(self, keyword, geo=''):\n",
        "        \"\"\"Fetch related queries for a keyword.\"\"\"\n",
        "        url = f\"https://trends.google.com/trends/api/widgetdata/relatedsearches?geo={geo}&q={keyword}\"\n",
        "        data = self._get_json(url)\n",
        "        if data:\n",
        "            return data['default']['rankedList']\n",
        "        else:\n",
        "            return None\n",
        "\n",
        "    def _rate_limit(self, delay=2):\n",
        "        \"\"\"Simple rate-limiting function.\"\"\"\n",
        "        print(\"Sleeping for\", delay, \"seconds to avoid rate limits.\")\n",
        "        sleep(delay)\n"
      ]
    }
  ]
}